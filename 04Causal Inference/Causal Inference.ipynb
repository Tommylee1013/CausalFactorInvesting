{
 "cells": [
  {
   "cell_type": "markdown",
   "source": [
    "### Causal Inference"
   ],
   "metadata": {
    "collapsed": false
   },
   "id": "ef88f5850d398c76"
  },
  {
   "cell_type": "code",
   "execution_count": null,
   "id": "initial_id",
   "metadata": {
    "collapsed": true
   },
   "outputs": [],
   "source": []
  },
  {
   "cell_type": "markdown",
   "source": [
    "#### 1. Interventional Studies"
   ],
   "metadata": {
    "collapsed": false
   },
   "id": "6d545243ff46d385"
  },
  {
   "cell_type": "code",
   "execution_count": null,
   "outputs": [],
   "source": [],
   "metadata": {
    "collapsed": false
   },
   "id": "668e8b74537b37e"
  },
  {
   "cell_type": "markdown",
   "source": [
    "#### 2. Natural Experiments"
   ],
   "metadata": {
    "collapsed": false
   },
   "id": "14457d83ded980da"
  },
  {
   "cell_type": "code",
   "execution_count": null,
   "outputs": [],
   "source": [],
   "metadata": {
    "collapsed": false
   },
   "id": "ddf84120bb5e7474"
  },
  {
   "cell_type": "markdown",
   "source": [
    "#### 3. Simulated Interventions"
   ],
   "metadata": {
    "collapsed": false
   },
   "id": "933ffdb078b552ae"
  },
  {
   "cell_type": "code",
   "execution_count": null,
   "outputs": [],
   "source": [],
   "metadata": {
    "collapsed": false
   },
   "id": "541d2af6b1aeb94a"
  },
  {
   "cell_type": "markdown",
   "source": [
    "**3.1 Causal Discovery**"
   ],
   "metadata": {
    "collapsed": false
   },
   "id": "4915737bc66b25ab"
  },
  {
   "cell_type": "code",
   "execution_count": null,
   "outputs": [],
   "source": [],
   "metadata": {
    "collapsed": false
   },
   "id": "604a7e7a459a8ebd"
  },
  {
   "cell_type": "markdown",
   "source": [
    "**3.2 Do-Calculus**"
   ],
   "metadata": {
    "collapsed": false
   },
   "id": "9dc927e9ef95b6a6"
  },
  {
   "cell_type": "code",
   "execution_count": null,
   "outputs": [],
   "source": [],
   "metadata": {
    "collapsed": false
   },
   "id": "7b84f5d0c3c14d85"
  }
 ],
 "metadata": {
  "kernelspec": {
   "display_name": "Python 3",
   "language": "python",
   "name": "python3"
  },
  "language_info": {
   "codemirror_mode": {
    "name": "ipython",
    "version": 2
   },
   "file_extension": ".py",
   "mimetype": "text/x-python",
   "name": "python",
   "nbconvert_exporter": "python",
   "pygments_lexer": "ipython2",
   "version": "2.7.6"
  }
 },
 "nbformat": 4,
 "nbformat_minor": 5
}
