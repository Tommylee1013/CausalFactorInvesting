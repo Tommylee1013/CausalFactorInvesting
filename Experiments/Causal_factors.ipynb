{
 "cells": [
  {
   "cell_type": "code",
   "id": "initial_id",
   "metadata": {
    "collapsed": true,
    "ExecuteTime": {
     "end_time": "2024-11-02T13:32:51.058109Z",
     "start_time": "2024-11-02T13:32:45.691352Z"
    }
   },
   "source": [
    "import pandas_datareader as pdr\n",
    "import pandas as pd\n",
    "import numpy as np\n",
    "import matplotlib.pyplot as plt\n",
    "import warnings\n",
    "import yfinance as yf\n",
    "\n",
    "warnings.filterwarnings(\"ignore\")\n",
    "\n",
    "ff15_model = pdr.get_data_famafrench(\n",
    "    'F-F_Research_Data_5_Factors_2x3_daily',\n",
    "    start='2004-02-02'\n",
    ")\n",
    "c97_model = pdr.get_data_famafrench(\n",
    "    'F-F_Momentum_Factor_daily',\n",
    "    start='2004-02-02'\n",
    ")\n",
    "data = pd.concat(\n",
    "    [ff15_model[0], c97_model[0]],\n",
    "    axis=1\n",
    ")\n",
    "\n",
    "price = yf.download(\n",
    "    'XOM',\n",
    "    #'CVX',\n",
    "    start='2004-01-30',\n",
    "    end='2024-09-01',\n",
    "    progress=False\n",
    ")"
   ],
   "outputs": [],
   "execution_count": 79
  },
  {
   "metadata": {
    "ExecuteTime": {
     "end_time": "2024-11-02T13:32:52.903622Z",
     "start_time": "2024-11-02T13:32:52.899569Z"
    }
   },
   "cell_type": "code",
   "source": [
    "ret = price['Adj Close'].pct_change().dropna()\n",
    "ret.name = 'return'\n",
    "data = data * 0.01\n",
    "excess_return = ret - data['RF']\n",
    "excess_return.name = 'excess_return'\n",
    "data.drop(['RF'], axis=1, inplace=True)\n",
    "data.columns = ['Mkt-RF', 'SMB', 'HML', 'RMW', 'CMA', 'MOM']"
   ],
   "id": "a0796b11f7e6d7d0",
   "outputs": [],
   "execution_count": 80
  },
  {
   "metadata": {
    "ExecuteTime": {
     "end_time": "2024-11-02T13:32:54.881588Z",
     "start_time": "2024-11-02T13:32:54.875630Z"
    }
   },
   "cell_type": "code",
   "source": "oil_factor = pd.read_parquet('../Data/oil_factor.parquet')",
   "id": "8dae46a9b663e389",
   "outputs": [],
   "execution_count": 81
  },
  {
   "metadata": {
    "ExecuteTime": {
     "end_time": "2024-11-02T13:32:55.435244Z",
     "start_time": "2024-11-02T13:32:55.428255Z"
    }
   },
   "cell_type": "code",
   "source": [
    "irx_factor = pd.read_parquet('../Data/IRX_Factor.parquet')\n",
    "dyx_factor = pd.read_parquet('../Data/DYX_Factor.parquet')"
   ],
   "id": "c03aa2cb489a538c",
   "outputs": [],
   "execution_count": 82
  },
  {
   "metadata": {
    "ExecuteTime": {
     "end_time": "2024-11-02T13:32:55.947778Z",
     "start_time": "2024-11-02T13:32:55.942735Z"
    }
   },
   "cell_type": "code",
   "source": [
    "data = pd.concat(\n",
    "    [data, oil_factor.loc['2004-01-30':], irx_factor.loc['2004-01-30':], dyx_factor.loc['2004-01-30':]],\n",
    "    axis = 1\n",
    ")"
   ],
   "id": "36c178626c4f5938",
   "outputs": [],
   "execution_count": 83
  },
  {
   "metadata": {
    "ExecuteTime": {
     "end_time": "2024-11-02T13:32:56.378874Z",
     "start_time": "2024-11-02T13:32:56.377102Z"
    }
   },
   "cell_type": "code",
   "source": "data.columns = ['Mkt-RF','SMB','HML','RMW','CMA','MOM','OIL','IRX','DYX']",
   "id": "f47f5474412ac212",
   "outputs": [],
   "execution_count": 84
  },
  {
   "metadata": {
    "ExecuteTime": {
     "end_time": "2024-11-02T13:32:57.746379Z",
     "start_time": "2024-11-02T13:32:57.741920Z"
    }
   },
   "cell_type": "code",
   "source": "data = data.loc['2004-02':'2024-08']",
   "id": "eb69af4803027459",
   "outputs": [],
   "execution_count": 85
  },
  {
   "metadata": {
    "ExecuteTime": {
     "end_time": "2024-11-02T13:32:58.109140Z",
     "start_time": "2024-11-02T13:32:58.106589Z"
    }
   },
   "cell_type": "code",
   "source": "excess_return = excess_return.loc['2004-02':'2024-08']",
   "id": "d99ba23b2f161e59",
   "outputs": [],
   "execution_count": 86
  },
  {
   "metadata": {
    "ExecuteTime": {
     "end_time": "2024-11-02T13:33:08.820868Z",
     "start_time": "2024-11-02T13:33:08.813884Z"
    }
   },
   "cell_type": "code",
   "source": "data",
   "id": "f06452d84120b1a2",
   "outputs": [
    {
     "data": {
      "text/plain": [
       "            Mkt-RF     SMB     HML     RMW     CMA     MOM       OIL  \\\n",
       "Date                                                                   \n",
       "2004-02-02  0.0027 -0.0035 -0.0014  0.0023 -0.0028 -0.0055 -0.000355   \n",
       "2004-02-03  0.0000 -0.0013 -0.0004  0.0020 -0.0015  0.0002  0.000648   \n",
       "2004-02-04 -0.0097 -0.0145 -0.0059  0.0158 -0.0115 -0.0151 -0.004654   \n",
       "2004-02-05  0.0023  0.0045  0.0018 -0.0020  0.0014  0.0015  0.007936   \n",
       "2004-02-06  0.0139  0.0103  0.0041 -0.0090  0.0090  0.0162  0.009140   \n",
       "...            ...     ...     ...     ...     ...     ...       ...   \n",
       "2024-08-26 -0.0034  0.0033  0.0017  0.0013 -0.0006 -0.0045  0.000645   \n",
       "2024-08-27  0.0005 -0.0090  0.0002  0.0027  0.0023  0.0053  0.004886   \n",
       "2024-08-28 -0.0067 -0.0022  0.0114  0.0055 -0.0016  0.0030  0.008561   \n",
       "2024-08-29  0.0008  0.0067  0.0028 -0.0015 -0.0122 -0.0078 -0.001347   \n",
       "2024-08-30  0.0098 -0.0056  0.0004 -0.0020 -0.0014  0.0067  0.001957   \n",
       "\n",
       "                 IRX       DYX  \n",
       "Date                            \n",
       "2004-02-02 -0.000551 -0.000538  \n",
       "2004-02-03  0.000543  0.000545  \n",
       "2004-02-04 -0.004564 -0.004582  \n",
       "2004-02-05  0.008089  0.008120  \n",
       "2004-02-06  0.009101  0.009137  \n",
       "...              ...       ...  \n",
       "2024-08-26  0.000579  0.000579  \n",
       "2024-08-27  0.004849  0.004849  \n",
       "2024-08-28  0.008541  0.008541  \n",
       "2024-08-29 -0.001338 -0.001338  \n",
       "2024-08-30  0.001988  0.001988  \n",
       "\n",
       "[5181 rows x 9 columns]"
      ],
      "text/html": [
       "<div>\n",
       "<style scoped>\n",
       "    .dataframe tbody tr th:only-of-type {\n",
       "        vertical-align: middle;\n",
       "    }\n",
       "\n",
       "    .dataframe tbody tr th {\n",
       "        vertical-align: top;\n",
       "    }\n",
       "\n",
       "    .dataframe thead th {\n",
       "        text-align: right;\n",
       "    }\n",
       "</style>\n",
       "<table border=\"1\" class=\"dataframe\">\n",
       "  <thead>\n",
       "    <tr style=\"text-align: right;\">\n",
       "      <th></th>\n",
       "      <th>Mkt-RF</th>\n",
       "      <th>SMB</th>\n",
       "      <th>HML</th>\n",
       "      <th>RMW</th>\n",
       "      <th>CMA</th>\n",
       "      <th>MOM</th>\n",
       "      <th>OIL</th>\n",
       "      <th>IRX</th>\n",
       "      <th>DYX</th>\n",
       "    </tr>\n",
       "    <tr>\n",
       "      <th>Date</th>\n",
       "      <th></th>\n",
       "      <th></th>\n",
       "      <th></th>\n",
       "      <th></th>\n",
       "      <th></th>\n",
       "      <th></th>\n",
       "      <th></th>\n",
       "      <th></th>\n",
       "      <th></th>\n",
       "    </tr>\n",
       "  </thead>\n",
       "  <tbody>\n",
       "    <tr>\n",
       "      <th>2004-02-02</th>\n",
       "      <td>0.0027</td>\n",
       "      <td>-0.0035</td>\n",
       "      <td>-0.0014</td>\n",
       "      <td>0.0023</td>\n",
       "      <td>-0.0028</td>\n",
       "      <td>-0.0055</td>\n",
       "      <td>-0.000355</td>\n",
       "      <td>-0.000551</td>\n",
       "      <td>-0.000538</td>\n",
       "    </tr>\n",
       "    <tr>\n",
       "      <th>2004-02-03</th>\n",
       "      <td>0.0000</td>\n",
       "      <td>-0.0013</td>\n",
       "      <td>-0.0004</td>\n",
       "      <td>0.0020</td>\n",
       "      <td>-0.0015</td>\n",
       "      <td>0.0002</td>\n",
       "      <td>0.000648</td>\n",
       "      <td>0.000543</td>\n",
       "      <td>0.000545</td>\n",
       "    </tr>\n",
       "    <tr>\n",
       "      <th>2004-02-04</th>\n",
       "      <td>-0.0097</td>\n",
       "      <td>-0.0145</td>\n",
       "      <td>-0.0059</td>\n",
       "      <td>0.0158</td>\n",
       "      <td>-0.0115</td>\n",
       "      <td>-0.0151</td>\n",
       "      <td>-0.004654</td>\n",
       "      <td>-0.004564</td>\n",
       "      <td>-0.004582</td>\n",
       "    </tr>\n",
       "    <tr>\n",
       "      <th>2004-02-05</th>\n",
       "      <td>0.0023</td>\n",
       "      <td>0.0045</td>\n",
       "      <td>0.0018</td>\n",
       "      <td>-0.0020</td>\n",
       "      <td>0.0014</td>\n",
       "      <td>0.0015</td>\n",
       "      <td>0.007936</td>\n",
       "      <td>0.008089</td>\n",
       "      <td>0.008120</td>\n",
       "    </tr>\n",
       "    <tr>\n",
       "      <th>2004-02-06</th>\n",
       "      <td>0.0139</td>\n",
       "      <td>0.0103</td>\n",
       "      <td>0.0041</td>\n",
       "      <td>-0.0090</td>\n",
       "      <td>0.0090</td>\n",
       "      <td>0.0162</td>\n",
       "      <td>0.009140</td>\n",
       "      <td>0.009101</td>\n",
       "      <td>0.009137</td>\n",
       "    </tr>\n",
       "    <tr>\n",
       "      <th>...</th>\n",
       "      <td>...</td>\n",
       "      <td>...</td>\n",
       "      <td>...</td>\n",
       "      <td>...</td>\n",
       "      <td>...</td>\n",
       "      <td>...</td>\n",
       "      <td>...</td>\n",
       "      <td>...</td>\n",
       "      <td>...</td>\n",
       "    </tr>\n",
       "    <tr>\n",
       "      <th>2024-08-26</th>\n",
       "      <td>-0.0034</td>\n",
       "      <td>0.0033</td>\n",
       "      <td>0.0017</td>\n",
       "      <td>0.0013</td>\n",
       "      <td>-0.0006</td>\n",
       "      <td>-0.0045</td>\n",
       "      <td>0.000645</td>\n",
       "      <td>0.000579</td>\n",
       "      <td>0.000579</td>\n",
       "    </tr>\n",
       "    <tr>\n",
       "      <th>2024-08-27</th>\n",
       "      <td>0.0005</td>\n",
       "      <td>-0.0090</td>\n",
       "      <td>0.0002</td>\n",
       "      <td>0.0027</td>\n",
       "      <td>0.0023</td>\n",
       "      <td>0.0053</td>\n",
       "      <td>0.004886</td>\n",
       "      <td>0.004849</td>\n",
       "      <td>0.004849</td>\n",
       "    </tr>\n",
       "    <tr>\n",
       "      <th>2024-08-28</th>\n",
       "      <td>-0.0067</td>\n",
       "      <td>-0.0022</td>\n",
       "      <td>0.0114</td>\n",
       "      <td>0.0055</td>\n",
       "      <td>-0.0016</td>\n",
       "      <td>0.0030</td>\n",
       "      <td>0.008561</td>\n",
       "      <td>0.008541</td>\n",
       "      <td>0.008541</td>\n",
       "    </tr>\n",
       "    <tr>\n",
       "      <th>2024-08-29</th>\n",
       "      <td>0.0008</td>\n",
       "      <td>0.0067</td>\n",
       "      <td>0.0028</td>\n",
       "      <td>-0.0015</td>\n",
       "      <td>-0.0122</td>\n",
       "      <td>-0.0078</td>\n",
       "      <td>-0.001347</td>\n",
       "      <td>-0.001338</td>\n",
       "      <td>-0.001338</td>\n",
       "    </tr>\n",
       "    <tr>\n",
       "      <th>2024-08-30</th>\n",
       "      <td>0.0098</td>\n",
       "      <td>-0.0056</td>\n",
       "      <td>0.0004</td>\n",
       "      <td>-0.0020</td>\n",
       "      <td>-0.0014</td>\n",
       "      <td>0.0067</td>\n",
       "      <td>0.001957</td>\n",
       "      <td>0.001988</td>\n",
       "      <td>0.001988</td>\n",
       "    </tr>\n",
       "  </tbody>\n",
       "</table>\n",
       "<p>5181 rows × 9 columns</p>\n",
       "</div>"
      ]
     },
     "execution_count": 88,
     "metadata": {},
     "output_type": "execute_result"
    }
   ],
   "execution_count": 88
  },
  {
   "metadata": {},
   "cell_type": "markdown",
   "source": "### Modeling",
   "id": "e1fd7d4e03a4d330"
  },
  {
   "metadata": {
    "ExecuteTime": {
     "end_time": "2024-11-02T13:33:51.086757Z",
     "start_time": "2024-11-02T13:33:50.842854Z"
    }
   },
   "cell_type": "code",
   "source": [
    "import graphviz as gr\n",
    "\n",
    "chain = gr.Digraph(\n",
    "    'G',\n",
    "    node_attr = {'shape': 'ellipse'}, \n",
    "    graph_attr = {\n",
    "        'rankdir': 'LR',\n",
    "        'label': 'Example of a causal graph'\n",
    "    }\n",
    ")\n",
    "\n",
    "chain.edge('Market', 'Ret')\n",
    "chain.edge('MOM', 'Ret')\n",
    "chain.edge('MOM', 'HML')\n",
    "chain.edge('SMB', 'HML')\n",
    "chain.edge('Ret', 'HML')\n",
    "chain.edge('OIL', 'Market')\n",
    "\n",
    "chain.node(\n",
    "    'HML', style = 'filled', \n",
    "    fillcolor = 'lightgray', \n",
    "    shape = 'ellipse', \n",
    "    penwidth = '0'\n",
    ")\n",
    "chain.node(\n",
    "    'Market', style = 'filled', \n",
    "    fillcolor = 'lightgray', \n",
    "    shape = 'ellipse', \n",
    "    penwidth = '0'\n",
    ")\n",
    "\n",
    "with chain.subgraph() as s:\n",
    "    s.attr(rank = 'same') \n",
    "    s.node('Ret')\n",
    "    s.node('HML')\n",
    "with chain.subgraph() as s:\n",
    "    s.attr(rank = 'same') \n",
    "    s.node('Market')\n",
    "    s.node('OIL')\n",
    "    s.node('MOM')\n",
    "\n",
    "chain"
   ],
   "id": "1e3ef15bdb2b5eff",
   "outputs": [
    {
     "data": {
      "image/svg+xml": "<?xml version=\"1.0\" encoding=\"UTF-8\" standalone=\"no\"?>\n<!DOCTYPE svg PUBLIC \"-//W3C//DTD SVG 1.1//EN\"\n \"http://www.w3.org/Graphics/SVG/1.1/DTD/svg11.dtd\">\n<!-- Generated by graphviz version 2.50.0 (0)\n -->\n<!-- Title: G Pages: 1 -->\n<svg width=\"178pt\" height=\"229pt\"\n viewBox=\"0.00 0.00 177.89 229.00\" xmlns=\"http://www.w3.org/2000/svg\" xmlns:xlink=\"http://www.w3.org/1999/xlink\">\n<g id=\"graph0\" class=\"graph\" transform=\"scale(1 1) rotate(0) translate(4 225)\">\n<title>G</title>\n<polygon fill=\"white\" stroke=\"transparent\" points=\"-4,4 -4,-225 173.89,-225 173.89,4 -4,4\"/>\n<text text-anchor=\"middle\" x=\"84.94\" y=\"-7.8\" font-family=\"Times,serif\" font-size=\"14.00\">Example of a causal graph</text>\n<!-- Market -->\n<g id=\"node1\" class=\"node\">\n<title>Market</title>\n<ellipse fill=\"lightgray\" stroke=\"black\" stroke-width=\"0\" cx=\"36.4\" cy=\"-149\" rx=\"36.29\" ry=\"18\"/>\n<text text-anchor=\"middle\" x=\"36.4\" y=\"-145.3\" font-family=\"Times,serif\" font-size=\"14.00\">Market</text>\n</g>\n<!-- Ret -->\n<g id=\"node2\" class=\"node\">\n<title>Ret</title>\n<ellipse fill=\"none\" stroke=\"black\" cx=\"139.34\" cy=\"-122\" rx=\"27\" ry=\"18\"/>\n<text text-anchor=\"middle\" x=\"139.34\" y=\"-118.3\" font-family=\"Times,serif\" font-size=\"14.00\">Ret</text>\n</g>\n<!-- Market&#45;&gt;Ret -->\n<g id=\"edge1\" class=\"edge\">\n<title>Market&#45;&gt;Ret</title>\n<path fill=\"none\" stroke=\"black\" d=\"M68.78,-140.61C80.06,-137.59 92.84,-134.17 104.33,-131.1\"/>\n<polygon fill=\"black\" stroke=\"black\" points=\"105.27,-134.47 114.03,-128.5 103.46,-127.71 105.27,-134.47\"/>\n</g>\n<!-- HML -->\n<g id=\"node4\" class=\"node\">\n<title>HML</title>\n<ellipse fill=\"lightgray\" stroke=\"black\" stroke-width=\"0\" cx=\"139.34\" cy=\"-68\" rx=\"30.59\" ry=\"18\"/>\n<text text-anchor=\"middle\" x=\"139.34\" y=\"-64.3\" font-family=\"Times,serif\" font-size=\"14.00\">HML</text>\n</g>\n<!-- Ret&#45;&gt;HML -->\n<g id=\"edge5\" class=\"edge\">\n<title>Ret&#45;&gt;HML</title>\n<path fill=\"none\" stroke=\"black\" d=\"M139.34,-103.79C139.34,-101.31 139.34,-98.83 139.34,-96.34\"/>\n<polygon fill=\"black\" stroke=\"black\" points=\"142.84,-96.14 139.34,-86.14 135.84,-96.14 142.84,-96.14\"/>\n</g>\n<!-- MOM -->\n<g id=\"node3\" class=\"node\">\n<title>MOM</title>\n<ellipse fill=\"none\" stroke=\"black\" cx=\"36.4\" cy=\"-95\" rx=\"33.6\" ry=\"18\"/>\n<text text-anchor=\"middle\" x=\"36.4\" y=\"-91.3\" font-family=\"Times,serif\" font-size=\"14.00\">MOM</text>\n</g>\n<!-- MOM&#45;&gt;Ret -->\n<g id=\"edge2\" class=\"edge\">\n<title>MOM&#45;&gt;Ret</title>\n<path fill=\"none\" stroke=\"black\" d=\"M66.87,-102.88C78.59,-106.02 92.17,-109.65 104.31,-112.9\"/>\n<polygon fill=\"black\" stroke=\"black\" points=\"103.54,-116.32 114.11,-115.52 105.35,-109.55 103.54,-116.32\"/>\n</g>\n<!-- MOM&#45;&gt;HML -->\n<g id=\"edge3\" class=\"edge\">\n<title>MOM&#45;&gt;HML</title>\n<path fill=\"none\" stroke=\"black\" d=\"M66.87,-87.12C77.67,-84.23 90.03,-80.92 101.41,-77.88\"/>\n<polygon fill=\"black\" stroke=\"black\" points=\"102.33,-81.26 111.08,-75.29 100.52,-74.49 102.33,-81.26\"/>\n</g>\n<!-- SMB -->\n<g id=\"node5\" class=\"node\">\n<title>SMB</title>\n<ellipse fill=\"none\" stroke=\"black\" cx=\"36.4\" cy=\"-41\" rx=\"29.8\" ry=\"18\"/>\n<text text-anchor=\"middle\" x=\"36.4\" y=\"-37.3\" font-family=\"Times,serif\" font-size=\"14.00\">SMB</text>\n</g>\n<!-- SMB&#45;&gt;HML -->\n<g id=\"edge4\" class=\"edge\">\n<title>SMB&#45;&gt;HML</title>\n<path fill=\"none\" stroke=\"black\" d=\"M63.92,-48.09C75.44,-51.18 89.13,-54.84 101.61,-58.18\"/>\n<polygon fill=\"black\" stroke=\"black\" points=\"100.73,-61.56 111.29,-60.77 102.54,-54.8 100.73,-61.56\"/>\n</g>\n<!-- OIL -->\n<g id=\"node6\" class=\"node\">\n<title>OIL</title>\n<ellipse fill=\"none\" stroke=\"black\" cx=\"36.4\" cy=\"-203\" rx=\"27\" ry=\"18\"/>\n<text text-anchor=\"middle\" x=\"36.4\" y=\"-199.3\" font-family=\"Times,serif\" font-size=\"14.00\">OIL</text>\n</g>\n<!-- OIL&#45;&gt;Market -->\n<g id=\"edge6\" class=\"edge\">\n<title>OIL&#45;&gt;Market</title>\n<path fill=\"none\" stroke=\"black\" d=\"M36.4,-184.79C36.4,-182.31 36.4,-179.83 36.4,-177.34\"/>\n<polygon fill=\"black\" stroke=\"black\" points=\"39.9,-177.14 36.4,-167.14 32.9,-177.14 39.9,-177.14\"/>\n</g>\n</g>\n</svg>\n",
      "text/plain": [
       "<graphviz.graphs.Digraph at 0x16780efd0>"
      ]
     },
     "execution_count": 89,
     "metadata": {},
     "output_type": "execute_result"
    }
   ],
   "execution_count": 89
  },
  {
   "metadata": {
    "ExecuteTime": {
     "end_time": "2024-11-02T13:33:55.691890Z",
     "start_time": "2024-11-02T13:33:55.623791Z"
    }
   },
   "cell_type": "code",
   "source": [
    "import statsmodels.api as sm\n",
    "\n",
    "X = sm.add_constant(\n",
    "    data\n",
    ")\n",
    "ols2 = sm.OLS(excess_return, X).fit()\n",
    "print(ols2.summary())"
   ],
   "id": "429811733b4b5b66",
   "outputs": [
    {
     "name": "stdout",
     "output_type": "stream",
     "text": [
      "                            OLS Regression Results                            \n",
      "==============================================================================\n",
      "Dep. Variable:          excess_return   R-squared:                       0.504\n",
      "Model:                            OLS   Adj. R-squared:                  0.503\n",
      "Method:                 Least Squares   F-statistic:                     584.2\n",
      "Date:                Sat, 02 Nov 2024   Prob (F-statistic):               0.00\n",
      "Time:                        22:33:55   Log-Likelihood:                 15711.\n",
      "No. Observations:                5181   AIC:                        -3.140e+04\n",
      "Df Residuals:                    5171   BIC:                        -3.134e+04\n",
      "Df Model:                           9                                         \n",
      "Covariance Type:            nonrobust                                         \n",
      "==============================================================================\n",
      "                 coef    std err          t      P>|t|      [0.025      0.975]\n",
      "------------------------------------------------------------------------------\n",
      "const      -3.937e-05      0.000     -0.234      0.815      -0.000       0.000\n",
      "Mkt-RF         0.9368      0.015     62.288      0.000       0.907       0.966\n",
      "SMB           -0.0638      0.028     -2.279      0.023      -0.119      -0.009\n",
      "HML            0.3930      0.028     14.218      0.000       0.339       0.447\n",
      "RMW            0.3897      0.039      9.981      0.000       0.313       0.466\n",
      "CMA            0.4807      0.052      9.214      0.000       0.378       0.583\n",
      "MOM            0.0437      0.019      2.345      0.019       0.007       0.080\n",
      "OIL            1.2034      0.813      1.481      0.139      -0.390       2.796\n",
      "IRX           -0.0626      1.734     -0.036      0.971      -3.462       3.337\n",
      "DYX           -1.1348      1.556     -0.730      0.466      -4.184       1.915\n",
      "==============================================================================\n",
      "Omnibus:                      629.363   Durbin-Watson:                   2.001\n",
      "Prob(Omnibus):                  0.000   Jarque-Bera (JB):             5651.702\n",
      "Skew:                           0.234   Prob(JB):                         0.00\n",
      "Kurtosis:                       8.095   Cond. No.                     1.40e+04\n",
      "==============================================================================\n",
      "\n",
      "Notes:\n",
      "[1] Standard Errors assume that the covariance matrix of the errors is correctly specified.\n",
      "[2] The condition number is large, 1.4e+04. This might indicate that there are\n",
      "strong multicollinearity or other numerical problems.\n"
     ]
    }
   ],
   "execution_count": 90
  },
  {
   "metadata": {
    "ExecuteTime": {
     "end_time": "2024-11-02T13:34:30.214378Z",
     "start_time": "2024-11-02T13:34:30.196373Z"
    }
   },
   "cell_type": "code",
   "source": [
    "X = sm.add_constant(\n",
    "    data[['DYX','IRX','OIL']]\n",
    ")\n",
    "treatment = sm.OLS(data['Mkt-RF'], X).fit()\n",
    "print(treatment.summary())"
   ],
   "id": "4cdaecee4d15fba4",
   "outputs": [
    {
     "name": "stdout",
     "output_type": "stream",
     "text": [
      "                            OLS Regression Results                            \n",
      "==============================================================================\n",
      "Dep. Variable:                 Mkt-RF   R-squared:                       0.004\n",
      "Model:                            OLS   Adj. R-squared:                  0.003\n",
      "Method:                 Least Squares   F-statistic:                     7.006\n",
      "Date:                Sat, 02 Nov 2024   Prob (F-statistic):           0.000106\n",
      "Time:                        22:34:30   Log-Likelihood:                 15532.\n",
      "No. Observations:                5181   AIC:                        -3.106e+04\n",
      "Df Residuals:                    5177   BIC:                        -3.103e+04\n",
      "Df Model:                           3                                         \n",
      "Covariance Type:            nonrobust                                         \n",
      "==============================================================================\n",
      "                 coef    std err          t      P>|t|      [0.025      0.975]\n",
      "------------------------------------------------------------------------------\n",
      "const          0.0005      0.000      2.704      0.007       0.000       0.001\n",
      "DYX           -1.9268      1.605     -1.200      0.230      -5.074       1.220\n",
      "IRX           -1.6862      1.783     -0.946      0.344      -5.182       1.809\n",
      "OIL            3.5909      0.833      4.310      0.000       1.958       5.224\n",
      "==============================================================================\n",
      "Omnibus:                     1037.162   Durbin-Watson:                   2.202\n",
      "Prob(Omnibus):                  0.000   Jarque-Bera (JB):            26002.004\n",
      "Skew:                          -0.308   Prob(JB):                         0.00\n",
      "Kurtosis:                      13.958   Cond. No.                     1.39e+04\n",
      "==============================================================================\n",
      "\n",
      "Notes:\n",
      "[1] Standard Errors assume that the covariance matrix of the errors is correctly specified.\n",
      "[2] The condition number is large, 1.39e+04. This might indicate that there are\n",
      "strong multicollinearity or other numerical problems.\n"
     ]
    }
   ],
   "execution_count": 93
  },
  {
   "metadata": {
    "ExecuteTime": {
     "end_time": "2024-11-02T13:34:48.261982Z",
     "start_time": "2024-11-02T13:34:48.250750Z"
    }
   },
   "cell_type": "code",
   "source": [
    "mkt_hat = treatment.resid\n",
    "mkt_hat.name = 'Mkt_hat'"
   ],
   "id": "cabd0380c86eb814",
   "outputs": [],
   "execution_count": 94
  },
  {
   "metadata": {},
   "cell_type": "markdown",
   "source": "### HML Factor",
   "id": "da9ba05cea5225e8"
  },
  {
   "metadata": {
    "ExecuteTime": {
     "end_time": "2024-11-02T13:34:51.587660Z",
     "start_time": "2024-11-02T13:34:51.507166Z"
    }
   },
   "cell_type": "code",
   "source": [
    "T = sm.add_constant(\n",
    "    data[['MOM', 'SMB']]\n",
    ")\n",
    "y_t = data['HML']\n",
    "ols0 = sm.OLS(y_t, T).fit()\n",
    "print(ols0.summary())  # true positive based causal graph\n",
    "hml_hat = ols0.resid\n",
    "hml_hat.name = 'HML_hat'"
   ],
   "id": "46e07a3effc40aca",
   "outputs": [
    {
     "name": "stdout",
     "output_type": "stream",
     "text": [
      "                            OLS Regression Results                            \n",
      "==============================================================================\n",
      "Dep. Variable:                    HML   R-squared:                       0.200\n",
      "Model:                            OLS   Adj. R-squared:                  0.200\n",
      "Method:                 Least Squares   F-statistic:                     646.8\n",
      "Date:                Sat, 02 Nov 2024   Prob (F-statistic):          1.79e-251\n",
      "Time:                        22:34:51   Log-Likelihood:                 18316.\n",
      "No. Observations:                5181   AIC:                        -3.663e+04\n",
      "Df Residuals:                    5178   BIC:                        -3.661e+04\n",
      "Df Model:                           2                                         \n",
      "Covariance Type:            nonrobust                                         \n",
      "==============================================================================\n",
      "                 coef    std err          t      P>|t|      [0.025      0.975]\n",
      "------------------------------------------------------------------------------\n",
      "const       2.973e-06    9.8e-05      0.030      0.976      -0.000       0.000\n",
      "MOM           -0.3072      0.010    -31.997      0.000      -0.326      -0.288\n",
      "SMB            0.1588      0.016     10.041      0.000       0.128       0.190\n",
      "==============================================================================\n",
      "Omnibus:                      715.551   Durbin-Watson:                   1.982\n",
      "Prob(Omnibus):                  0.000   Jarque-Bera (JB):             7539.261\n",
      "Skew:                          -0.282   Prob(JB):                         0.00\n",
      "Kurtosis:                       8.883   Cond. No.                         163.\n",
      "==============================================================================\n",
      "\n",
      "Notes:\n",
      "[1] Standard Errors assume that the covariance matrix of the errors is correctly specified.\n"
     ]
    }
   ],
   "execution_count": 95
  },
  {
   "metadata": {},
   "cell_type": "markdown",
   "source": "### Causal Model",
   "id": "420a504a51576506"
  },
  {
   "metadata": {
    "ExecuteTime": {
     "end_time": "2024-11-02T13:34:53.837429Z",
     "start_time": "2024-11-02T13:34:53.831301Z"
    }
   },
   "cell_type": "code",
   "source": [
    "X = sm.add_constant(\n",
    "    pd.concat(\n",
    "        [data[['MOM','OIL']], hml_hat],\n",
    "        axis = 1\n",
    "    )\n",
    ")"
   ],
   "id": "de061cbd0a1854ed",
   "outputs": [],
   "execution_count": 96
  },
  {
   "metadata": {
    "ExecuteTime": {
     "end_time": "2024-11-02T13:34:55.257058Z",
     "start_time": "2024-11-02T13:34:55.252674Z"
    }
   },
   "cell_type": "code",
   "source": "ols = sm.OLS(excess_return, X).fit()",
   "id": "67d38e83c8648fba",
   "outputs": [],
   "execution_count": 97
  },
  {
   "metadata": {
    "ExecuteTime": {
     "end_time": "2024-11-02T13:34:55.792441Z",
     "start_time": "2024-11-02T13:34:55.759664Z"
    }
   },
   "cell_type": "code",
   "source": "print(ols.summary())",
   "id": "2b1b1bf21ee4075c",
   "outputs": [
    {
     "name": "stdout",
     "output_type": "stream",
     "text": [
      "                            OLS Regression Results                            \n",
      "==============================================================================\n",
      "Dep. Variable:          excess_return   R-squared:                       0.112\n",
      "Model:                            OLS   Adj. R-squared:                  0.112\n",
      "Method:                 Least Squares   F-statistic:                     218.5\n",
      "Date:                Sat, 02 Nov 2024   Prob (F-statistic):          1.74e-133\n",
      "Time:                        22:34:55   Log-Likelihood:                 14203.\n",
      "No. Observations:                5181   AIC:                        -2.840e+04\n",
      "Df Residuals:                    5177   BIC:                        -2.837e+04\n",
      "Df Model:                           3                                         \n",
      "Covariance Type:            nonrobust                                         \n",
      "==============================================================================\n",
      "                 coef    std err          t      P>|t|      [0.025      0.975]\n",
      "------------------------------------------------------------------------------\n",
      "const          0.0004      0.000      1.720      0.085   -5.39e-05       0.001\n",
      "MOM           -0.3334      0.021    -15.812      0.000      -0.375      -0.292\n",
      "OIL            0.0181      0.021      0.883      0.377      -0.022       0.058\n",
      "HML_hat        0.6159      0.031     19.998      0.000       0.556       0.676\n",
      "==============================================================================\n",
      "Omnibus:                     1041.084   Durbin-Watson:                   2.176\n",
      "Prob(Omnibus):                  0.000   Jarque-Bera (JB):            26577.437\n",
      "Skew:                           0.304   Prob(JB):                         0.00\n",
      "Kurtosis:                      14.079   Cond. No.                         142.\n",
      "==============================================================================\n",
      "\n",
      "Notes:\n",
      "[1] Standard Errors assume that the covariance matrix of the errors is correctly specified.\n"
     ]
    }
   ],
   "execution_count": 98
  },
  {
   "metadata": {},
   "cell_type": "markdown",
   "source": [
    "$$\\text{XOM}_t - R_f= -0.3429 \\text{MOM}_t + 0.0643 \\text{OIL}_t + 0.6086 \\nu_t + \\varepsilon_t$$\n",
    "$$R_m - R_f = 0.0006 - 0.0381 \\text{OIL}_t + u_t$$\n",
    "$$\\text{HML}_t = -0.3072 \\text{MOM}_t + 0.1588 \\text{SMB}_t + \\nu_t$$"
   ],
   "id": "2ff802ca29f19a03"
  },
  {
   "metadata": {},
   "cell_type": "markdown",
   "source": "### Future Works",
   "id": "41350b33241bcaf2"
  },
  {
   "metadata": {
    "ExecuteTime": {
     "end_time": "2024-11-02T13:35:02.691421Z",
     "start_time": "2024-11-02T13:35:02.493326Z"
    }
   },
   "cell_type": "code",
   "source": [
    "import graphviz as gr\n",
    "\n",
    "chain = gr.Digraph(\n",
    "    'G',\n",
    "    node_attr = {'shape': 'ellipse'}, \n",
    "    graph_attr = {\n",
    "        'rankdir': 'LR',\n",
    "        'label': 'Example of a causal graph'\n",
    "    }\n",
    ")\n",
    "\n",
    "chain.edge('Market', 'Ret')\n",
    "chain.edge('MOM', 'Ret')\n",
    "chain.edge('MOM', 'HML')\n",
    "chain.edge('SMB', 'HML')\n",
    "chain.edge('Ret', 'HML')\n",
    "chain.edge('OIL', 'Market')\n",
    "chain.edge('IRX', 'Market')\n",
    "chain.edge('DYX', 'Market')\n",
    "chain.edge('DYX', 'OIL')\n",
    "chain.edge('IRX', 'DYX')\n",
    "chain.edge('IRX', 'LIQ')\n",
    "chain.edge('LIQ', 'MOM')\n",
    "\n",
    "chain.node(\n",
    "    'HML', style = 'filled', \n",
    "    fillcolor = 'lightgray', \n",
    "    shape = 'ellipse', \n",
    "    penwidth = '0'\n",
    ")\n",
    "chain.node(\n",
    "    'Market', style = 'filled', \n",
    "    fillcolor = 'lightgray', \n",
    "    shape = 'ellipse', \n",
    "    penwidth = '0'\n",
    ")\n",
    "\n",
    "with chain.subgraph() as s:\n",
    "    s.attr(rank = 'same') \n",
    "    s.node('Ret')\n",
    "    s.node('HML')\n",
    "with chain.subgraph() as s:\n",
    "    s.attr(rank = 'same') \n",
    "    s.node('OIL')\n",
    "    s.node('IRX')\n",
    "    s.node('DYX')\n",
    "\n",
    "chain"
   ],
   "id": "cb1d41dd1d81e577",
   "outputs": [
    {
     "data": {
      "image/svg+xml": "<?xml version=\"1.0\" encoding=\"UTF-8\" standalone=\"no\"?>\n<!DOCTYPE svg PUBLIC \"-//W3C//DTD SVG 1.1//EN\"\n \"http://www.w3.org/Graphics/SVG/1.1/DTD/svg11.dtd\">\n<!-- Generated by graphviz version 2.50.0 (0)\n -->\n<!-- Title: G Pages: 1 -->\n<svg width=\"377pt\" height=\"175pt\"\n viewBox=\"0.00 0.00 377.28 175.00\" xmlns=\"http://www.w3.org/2000/svg\" xmlns:xlink=\"http://www.w3.org/1999/xlink\">\n<g id=\"graph0\" class=\"graph\" transform=\"scale(1 1) rotate(0) translate(4 171)\">\n<title>G</title>\n<polygon fill=\"white\" stroke=\"transparent\" points=\"-4,4 -4,-171 373.28,-171 373.28,4 -4,4\"/>\n<text text-anchor=\"middle\" x=\"184.64\" y=\"-7.8\" font-family=\"Times,serif\" font-size=\"14.00\">Example of a causal graph</text>\n<!-- Market -->\n<g id=\"node1\" class=\"node\">\n<title>Market</title>\n<ellipse fill=\"lightgray\" stroke=\"black\" stroke-width=\"0\" cx=\"132.19\" cy=\"-95\" rx=\"36.29\" ry=\"18\"/>\n<text text-anchor=\"middle\" x=\"132.19\" y=\"-91.3\" font-family=\"Times,serif\" font-size=\"14.00\">Market</text>\n</g>\n<!-- Ret -->\n<g id=\"node2\" class=\"node\">\n<title>Ret</title>\n<ellipse fill=\"none\" stroke=\"black\" cx=\"338.73\" cy=\"-122\" rx=\"27\" ry=\"18\"/>\n<text text-anchor=\"middle\" x=\"338.73\" y=\"-118.3\" font-family=\"Times,serif\" font-size=\"14.00\">Ret</text>\n</g>\n<!-- Market&#45;&gt;Ret -->\n<g id=\"edge1\" class=\"edge\">\n<title>Market&#45;&gt;Ret</title>\n<path fill=\"none\" stroke=\"black\" d=\"M157.15,-108.35C170.64,-115.09 188.05,-122.56 204.59,-126 237.17,-132.77 275.19,-130.66 302.24,-127.52\"/>\n<polygon fill=\"black\" stroke=\"black\" points=\"302.91,-130.97 312.39,-126.24 302.03,-124.02 302.91,-130.97\"/>\n</g>\n<!-- HML -->\n<g id=\"node4\" class=\"node\">\n<title>HML</title>\n<ellipse fill=\"lightgray\" stroke=\"black\" stroke-width=\"0\" cx=\"338.73\" cy=\"-68\" rx=\"30.59\" ry=\"18\"/>\n<text text-anchor=\"middle\" x=\"338.73\" y=\"-64.3\" font-family=\"Times,serif\" font-size=\"14.00\">HML</text>\n</g>\n<!-- Ret&#45;&gt;HML -->\n<g id=\"edge5\" class=\"edge\">\n<title>Ret&#45;&gt;HML</title>\n<path fill=\"none\" stroke=\"black\" d=\"M338.73,-103.79C338.73,-101.31 338.73,-98.83 338.73,-96.34\"/>\n<polygon fill=\"black\" stroke=\"black\" points=\"342.23,-96.14 338.73,-86.14 335.23,-96.14 342.23,-96.14\"/>\n</g>\n<!-- MOM -->\n<g id=\"node3\" class=\"node\">\n<title>MOM</title>\n<ellipse fill=\"none\" stroke=\"black\" cx=\"238.39\" cy=\"-99\" rx=\"33.6\" ry=\"18\"/>\n<text text-anchor=\"middle\" x=\"238.39\" y=\"-95.3\" font-family=\"Times,serif\" font-size=\"14.00\">MOM</text>\n</g>\n<!-- MOM&#45;&gt;Ret -->\n<g id=\"edge2\" class=\"edge\">\n<title>MOM&#45;&gt;Ret</title>\n<path fill=\"none\" stroke=\"black\" d=\"M269.69,-106.09C280.22,-108.55 292.09,-111.33 302.95,-113.87\"/>\n<polygon fill=\"black\" stroke=\"black\" points=\"302.43,-117.34 312.96,-116.21 304.02,-110.52 302.43,-117.34\"/>\n</g>\n<!-- MOM&#45;&gt;HML -->\n<g id=\"edge3\" class=\"edge\">\n<title>MOM&#45;&gt;HML</title>\n<path fill=\"none\" stroke=\"black\" d=\"M267.83,-90.03C278.34,-86.72 290.4,-82.92 301.51,-79.42\"/>\n<polygon fill=\"black\" stroke=\"black\" points=\"302.88,-82.65 311.37,-76.31 300.78,-75.98 302.88,-82.65\"/>\n</g>\n<!-- SMB -->\n<g id=\"node5\" class=\"node\">\n<title>SMB</title>\n<ellipse fill=\"none\" stroke=\"black\" cx=\"238.39\" cy=\"-45\" rx=\"29.8\" ry=\"18\"/>\n<text text-anchor=\"middle\" x=\"238.39\" y=\"-41.3\" font-family=\"Times,serif\" font-size=\"14.00\">SMB</text>\n</g>\n<!-- SMB&#45;&gt;HML -->\n<g id=\"edge4\" class=\"edge\">\n<title>SMB&#45;&gt;HML</title>\n<path fill=\"none\" stroke=\"black\" d=\"M266.52,-51.35C276.88,-53.77 288.88,-56.58 300.05,-59.19\"/>\n<polygon fill=\"black\" stroke=\"black\" points=\"299.47,-62.65 310,-61.52 301.06,-55.83 299.47,-62.65\"/>\n</g>\n<!-- OIL -->\n<g id=\"node6\" class=\"node\">\n<title>OIL</title>\n<ellipse fill=\"none\" stroke=\"black\" cx=\"29.9\" cy=\"-41\" rx=\"27\" ry=\"18\"/>\n<text text-anchor=\"middle\" x=\"29.9\" y=\"-37.3\" font-family=\"Times,serif\" font-size=\"14.00\">OIL</text>\n</g>\n<!-- OIL&#45;&gt;Market -->\n<g id=\"edge6\" class=\"edge\">\n<title>OIL&#45;&gt;Market</title>\n<path fill=\"none\" stroke=\"black\" d=\"M51.68,-52.19C64.98,-59.35 82.54,-68.81 97.78,-77.01\"/>\n<polygon fill=\"black\" stroke=\"black\" points=\"96.44,-80.26 106.91,-81.92 99.76,-74.1 96.44,-80.26\"/>\n</g>\n<!-- IRX -->\n<g id=\"node7\" class=\"node\">\n<title>IRX</title>\n<ellipse fill=\"none\" stroke=\"black\" cx=\"29.9\" cy=\"-149\" rx=\"27\" ry=\"18\"/>\n<text text-anchor=\"middle\" x=\"29.9\" y=\"-145.3\" font-family=\"Times,serif\" font-size=\"14.00\">IRX</text>\n</g>\n<!-- IRX&#45;&gt;Market -->\n<g id=\"edge7\" class=\"edge\">\n<title>IRX&#45;&gt;Market</title>\n<path fill=\"none\" stroke=\"black\" d=\"M51.68,-137.81C64.98,-130.65 82.54,-121.19 97.78,-112.99\"/>\n<polygon fill=\"black\" stroke=\"black\" points=\"99.76,-115.9 106.91,-108.08 96.44,-109.74 99.76,-115.9\"/>\n</g>\n<!-- DYX -->\n<g id=\"node8\" class=\"node\">\n<title>DYX</title>\n<ellipse fill=\"none\" stroke=\"black\" cx=\"29.9\" cy=\"-95\" rx=\"29.8\" ry=\"18\"/>\n<text text-anchor=\"middle\" x=\"29.9\" y=\"-91.3\" font-family=\"Times,serif\" font-size=\"14.00\">DYX</text>\n</g>\n<!-- IRX&#45;&gt;DYX -->\n<g id=\"edge10\" class=\"edge\">\n<title>IRX&#45;&gt;DYX</title>\n<path fill=\"none\" stroke=\"black\" d=\"M29.9,-130.79C29.9,-128.31 29.9,-125.83 29.9,-123.34\"/>\n<polygon fill=\"black\" stroke=\"black\" points=\"33.4,-123.14 29.9,-113.14 26.4,-123.14 33.4,-123.14\"/>\n</g>\n<!-- LIQ -->\n<g id=\"node9\" class=\"node\">\n<title>LIQ</title>\n<ellipse fill=\"none\" stroke=\"black\" cx=\"132.19\" cy=\"-149\" rx=\"27\" ry=\"18\"/>\n<text text-anchor=\"middle\" x=\"132.19\" y=\"-145.3\" font-family=\"Times,serif\" font-size=\"14.00\">LIQ</text>\n</g>\n<!-- IRX&#45;&gt;LIQ -->\n<g id=\"edge11\" class=\"edge\">\n<title>IRX&#45;&gt;LIQ</title>\n<path fill=\"none\" stroke=\"black\" d=\"M56.99,-149C68.5,-149 82.24,-149 94.75,-149\"/>\n<polygon fill=\"black\" stroke=\"black\" points=\"94.88,-152.5 104.88,-149 94.88,-145.5 94.88,-152.5\"/>\n</g>\n<!-- DYX&#45;&gt;Market -->\n<g id=\"edge8\" class=\"edge\">\n<title>DYX&#45;&gt;Market</title>\n<path fill=\"none\" stroke=\"black\" d=\"M59.91,-95C67.89,-95 76.75,-95 85.43,-95\"/>\n<polygon fill=\"black\" stroke=\"black\" points=\"85.48,-98.5 95.48,-95 85.48,-91.5 85.48,-98.5\"/>\n</g>\n<!-- DYX&#45;&gt;OIL -->\n<g id=\"edge9\" class=\"edge\">\n<title>DYX&#45;&gt;OIL</title>\n<path fill=\"none\" stroke=\"black\" d=\"M29.9,-76.79C29.9,-74.31 29.9,-71.83 29.9,-69.34\"/>\n<polygon fill=\"black\" stroke=\"black\" points=\"33.4,-69.14 29.9,-59.14 26.4,-69.14 33.4,-69.14\"/>\n</g>\n<!-- LIQ&#45;&gt;MOM -->\n<g id=\"edge12\" class=\"edge\">\n<title>LIQ&#45;&gt;MOM</title>\n<path fill=\"none\" stroke=\"black\" d=\"M154.53,-138.76C168.66,-131.98 187.5,-122.94 203.65,-115.19\"/>\n<polygon fill=\"black\" stroke=\"black\" points=\"205.28,-118.29 212.79,-110.8 202.26,-111.98 205.28,-118.29\"/>\n</g>\n</g>\n</svg>\n",
      "text/plain": [
       "<graphviz.graphs.Digraph at 0x16780e690>"
      ]
     },
     "execution_count": 99,
     "metadata": {},
     "output_type": "execute_result"
    }
   ],
   "execution_count": 99
  },
  {
   "metadata": {},
   "cell_type": "code",
   "outputs": [],
   "execution_count": null,
   "source": "",
   "id": "185a98a2f737320b"
  }
 ],
 "metadata": {
  "kernelspec": {
   "display_name": "Python 3",
   "language": "python",
   "name": "python3"
  },
  "language_info": {
   "codemirror_mode": {
    "name": "ipython",
    "version": 2
   },
   "file_extension": ".py",
   "mimetype": "text/x-python",
   "name": "python",
   "nbconvert_exporter": "python",
   "pygments_lexer": "ipython2",
   "version": "2.7.6"
  }
 },
 "nbformat": 4,
 "nbformat_minor": 5
}
