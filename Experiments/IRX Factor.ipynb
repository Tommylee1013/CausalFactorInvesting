{
 "cells": [
  {
   "metadata": {},
   "cell_type": "markdown",
   "source": "### IRX Factor",
   "id": "1f0b68d97dc7a9e9"
  },
  {
   "cell_type": "code",
   "id": "initial_id",
   "metadata": {
    "collapsed": true,
    "ExecuteTime": {
     "end_time": "2024-11-02T13:41:17.012306Z",
     "start_time": "2024-11-02T13:41:16.130265Z"
    }
   },
   "source": [
    "import numpy as np\n",
    "import pandas as pd\n",
    "import matplotlib.pyplot as plt\n",
    "import seaborn as sns\n",
    "\n",
    "price = pd.read_parquet(\n",
    "    '../Data/US_stock_Price.parquet',\n",
    ").resample('W-FRI').last()"
   ],
   "outputs": [],
   "execution_count": 37
  },
  {
   "metadata": {
    "ExecuteTime": {
     "end_time": "2024-11-02T13:41:20.495975Z",
     "start_time": "2024-11-02T13:41:19.163354Z"
    }
   },
   "cell_type": "code",
   "source": [
    "import yfinance as yf\n",
    "irx = yf.download(\n",
    "    '^IRX',\n",
    "    start = '1989-01-01',\n",
    "    progress = False\n",
    ")"
   ],
   "id": "87f5ad0828ea7cb4",
   "outputs": [],
   "execution_count": 38
  },
  {
   "metadata": {
    "ExecuteTime": {
     "end_time": "2024-11-02T13:41:20.517996Z",
     "start_time": "2024-11-02T13:41:20.505705Z"
    }
   },
   "cell_type": "code",
   "source": "irx_diff = (irx['Close'].resample('W-FRI').last() * 0.01 / 52).diff()",
   "id": "9aaa58a9069c8326",
   "outputs": [],
   "execution_count": 39
  },
  {
   "metadata": {
    "ExecuteTime": {
     "end_time": "2024-11-02T13:41:20.882036Z",
     "start_time": "2024-11-02T13:41:20.767964Z"
    }
   },
   "cell_type": "code",
   "source": "price_ret = price.pct_change()",
   "id": "aa657440678d2109",
   "outputs": [
    {
     "name": "stderr",
     "output_type": "stream",
     "text": [
      "/var/folders/1q/pl9tj55n57s9jg28npxw61n80000gn/T/ipykernel_26980/1882691314.py:1: FutureWarning: The default fill_method='pad' in DataFrame.pct_change is deprecated and will be removed in a future version. Either fill in any non-leading NA values prior to calling pct_change or specify 'fill_method=None' to not fill NA values.\n",
      "  price_ret = price.pct_change()\n"
     ]
    }
   ],
   "execution_count": 40
  },
  {
   "metadata": {
    "ExecuteTime": {
     "end_time": "2024-11-02T13:41:21.316313Z",
     "start_time": "2024-11-02T13:41:21.300918Z"
    }
   },
   "cell_type": "code",
   "source": "oil_excess = price_ret - pd.DataFrame(irx_diff.loc['1990':]).values",
   "id": "b459e246b52b52b9",
   "outputs": [],
   "execution_count": 41
  },
  {
   "metadata": {
    "ExecuteTime": {
     "end_time": "2024-11-02T13:41:26.320983Z",
     "start_time": "2024-11-02T13:41:24.532962Z"
    }
   },
   "cell_type": "code",
   "source": [
    "price = pd.read_parquet(\n",
    "    '../Data/US_stock_Price.parquet',\n",
    ")\n",
    "price_ret = price.pct_change()"
   ],
   "id": "f9f1007cc70bd6ff",
   "outputs": [
    {
     "name": "stderr",
     "output_type": "stream",
     "text": [
      "/var/folders/1q/pl9tj55n57s9jg28npxw61n80000gn/T/ipykernel_26980/2331620672.py:4: FutureWarning: The default fill_method='pad' in DataFrame.pct_change is deprecated and will be removed in a future version. Either fill in any non-leading NA values prior to calling pct_change or specify 'fill_method=None' to not fill NA values.\n",
      "  price_ret = price.pct_change()\n"
     ]
    }
   ],
   "execution_count": 42
  },
  {
   "metadata": {
    "ExecuteTime": {
     "end_time": "2024-11-02T13:41:29.383641Z",
     "start_time": "2024-11-02T13:41:27.231397Z"
    }
   },
   "cell_type": "code",
   "source": [
    "from tqdm import tqdm\n",
    "up_30per = dict()\n",
    "down_30per = dict()\n",
    "\n",
    "mean_excess = pd.DataFrame(\n",
    "    index = price_ret.index,\n",
    "    columns = ['Up 30per', 'Down 30per']\n",
    ")\n",
    "\n",
    "for i in tqdm(zip([f'{year}-06' for year in range(1990, 2025)], [f'{year}-05' for year in range(1991, 2026)])) :\n",
    "    length = int(len(oil_excess.loc[i[0]:i[1]].mean().sort_values(ascending = False).dropna()) * 0.3)\n",
    "    up_30per[i[0]] = oil_excess.loc[i[0]:i[1]].mean().sort_values(ascending = False).dropna().iloc[:length].index.tolist()\n",
    "    down_30per[i[0]] = oil_excess.loc[i[0]:i[1]].mean().sort_values(ascending = True).dropna().iloc[:length].index.tolist()\n",
    "    \n",
    "    mean_excess.loc[i[0]:i[1], 'Up 30per'] = price_ret.loc[i[0]:i[1], up_30per[i[0]]].mean(axis = 1).values\n",
    "    mean_excess.loc[i[0]:i[1], 'Down 30per'] = price_ret.loc[i[0]:i[1], down_30per[i[0]]].mean(axis = 1).values"
   ],
   "id": "1d215425d9717ee2",
   "outputs": [
    {
     "name": "stderr",
     "output_type": "stream",
     "text": [
      "35it [00:02, 16.33it/s]\n"
     ]
    }
   ],
   "execution_count": 43
  },
  {
   "metadata": {
    "ExecuteTime": {
     "end_time": "2024-11-02T13:41:29.877847Z",
     "start_time": "2024-11-02T13:41:29.875600Z"
    }
   },
   "cell_type": "code",
   "source": "irx_factor = mean_excess['Up 30per'] - mean_excess['Down 30per']",
   "id": "97c24a8ff26ab7c0",
   "outputs": [],
   "execution_count": 44
  },
  {
   "metadata": {
    "ExecuteTime": {
     "end_time": "2024-11-02T13:41:35.478355Z",
     "start_time": "2024-11-02T13:41:35.309899Z"
    }
   },
   "cell_type": "code",
   "source": "irx_factor.plot()",
   "id": "6a1617495d36dccd",
   "outputs": [
    {
     "data": {
      "text/plain": [
       "<Axes: xlabel='Date'>"
      ]
     },
     "execution_count": 45,
     "metadata": {},
     "output_type": "execute_result"
    },
    {
     "data": {
      "text/plain": [
       "<Figure size 640x480 with 1 Axes>"
      ],
      "image/png": "[encoded data removed]"
     },
     "metadata": {},
     "output_type": "display_data"
    }
   ],
   "execution_count": 45
  },
  {
   "metadata": {
    "ExecuteTime": {
     "end_time": "2024-11-02T13:42:25.896978Z",
     "start_time": "2024-11-02T13:42:25.882321Z"
    }
   },
   "cell_type": "code",
   "source": "mean_excess",
   "id": "8a3d27fa089c3132",
   "outputs": [
    {
     "data": {
      "text/plain": [
       "            Up 30per Down 30per\n",
       "Date                           \n",
       "1990-01-02       NaN        NaN\n",
       "1990-01-03       NaN        NaN\n",
       "1990-01-04       NaN        NaN\n",
       "1990-01-05       NaN        NaN\n",
       "1990-01-08       NaN        NaN\n",
       "...              ...        ...\n",
       "2024-10-25  0.001485  -0.002296\n",
       "2024-10-28  0.021218    0.01059\n",
       "2024-10-29  0.001531  -0.009331\n",
       "2024-10-30  0.001587  -0.011068\n",
       "2024-10-31 -0.002767  -0.010078\n",
       "\n",
       "[8776 rows x 2 columns]"
      ],
      "text/html": [
       "<div>\n",
       "<style scoped>\n",
       "    .dataframe tbody tr th:only-of-type {\n",
       "        vertical-align: middle;\n",
       "    }\n",
       "\n",
       "    .dataframe tbody tr th {\n",
       "        vertical-align: top;\n",
       "    }\n",
       "\n",
       "    .dataframe thead th {\n",
       "        text-align: right;\n",
       "    }\n",
       "</style>\n",
       "<table border=\"1\" class=\"dataframe\">\n",
       "  <thead>\n",
       "    <tr style=\"text-align: right;\">\n",
       "      <th></th>\n",
       "      <th>Up 30per</th>\n",
       "      <th>Down 30per</th>\n",
       "    </tr>\n",
       "    <tr>\n",
       "      <th>Date</th>\n",
       "      <th></th>\n",
       "      <th></th>\n",
       "    </tr>\n",
       "  </thead>\n",
       "  <tbody>\n",
       "    <tr>\n",
       "      <th>1990-01-02</th>\n",
       "      <td>NaN</td>\n",
       "      <td>NaN</td>\n",
       "    </tr>\n",
       "    <tr>\n",
       "      <th>1990-01-03</th>\n",
       "      <td>NaN</td>\n",
       "      <td>NaN</td>\n",
       "    </tr>\n",
       "    <tr>\n",
       "      <th>1990-01-04</th>\n",
       "      <td>NaN</td>\n",
       "      <td>NaN</td>\n",
       "    </tr>\n",
       "    <tr>\n",
       "      <th>1990-01-05</th>\n",
       "      <td>NaN</td>\n",
       "      <td>NaN</td>\n",
       "    </tr>\n",
       "    <tr>\n",
       "      <th>1990-01-08</th>\n",
       "      <td>NaN</td>\n",
       "      <td>NaN</td>\n",
       "    </tr>\n",
       "    <tr>\n",
       "      <th>...</th>\n",
       "      <td>...</td>\n",
       "      <td>...</td>\n",
       "    </tr>\n",
       "    <tr>\n",
       "      <th>2024-10-25</th>\n",
       "      <td>0.001485</td>\n",
       "      <td>-0.002296</td>\n",
       "    </tr>\n",
       "    <tr>\n",
       "      <th>2024-10-28</th>\n",
       "      <td>0.021218</td>\n",
       "      <td>0.01059</td>\n",
       "    </tr>\n",
       "    <tr>\n",
       "      <th>2024-10-29</th>\n",
       "      <td>0.001531</td>\n",
       "      <td>-0.009331</td>\n",
       "    </tr>\n",
       "    <tr>\n",
       "      <th>2024-10-30</th>\n",
       "      <td>0.001587</td>\n",
       "      <td>-0.011068</td>\n",
       "    </tr>\n",
       "    <tr>\n",
       "      <th>2024-10-31</th>\n",
       "      <td>-0.002767</td>\n",
       "      <td>-0.010078</td>\n",
       "    </tr>\n",
       "  </tbody>\n",
       "</table>\n",
       "<p>8776 rows × 2 columns</p>\n",
       "</div>"
      ]
     },
     "execution_count": 47,
     "metadata": {},
     "output_type": "execute_result"
    }
   ],
   "execution_count": 47
  },
  {
   "metadata": {
    "ExecuteTime": {
     "end_time": "2024-11-02T13:41:44.263029Z",
     "start_time": "2024-11-02T13:41:44.251184Z"
    }
   },
   "cell_type": "code",
   "source": "pd.DataFrame(irx_factor).to_parquet('../Data/IRX_Factor.parquet')",
   "id": "1541a05d322b5285",
   "outputs": [],
   "execution_count": 46
  },
  {
   "metadata": {},
   "cell_type": "code",
   "outputs": [],
   "execution_count": null,
   "source": "",
   "id": "5663a9278e92d8d4"
  }
 ],
 "metadata": {
  "kernelspec": {
   "display_name": "Python 3",
   "language": "python",
   "name": "python3"
  },
  "language_info": {
   "codemirror_mode": {
    "name": "ipython",
    "version": 2
   },
   "file_extension": ".py",
   "mimetype": "text/x-python",
   "name": "python",
   "nbconvert_exporter": "python",
   "pygments_lexer": "ipython2",
   "version": "2.7.6"
  }
 },
 "nbformat": 4,
 "nbformat_minor": 5
}
