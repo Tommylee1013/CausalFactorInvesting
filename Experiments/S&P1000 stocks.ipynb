{
 "cells": [
  {
   "cell_type": "code",
   "id": "initial_id",
   "metadata": {
    "collapsed": true,
    "ExecuteTime": {
     "end_time": "2024-11-02T12:47:49.480061Z",
     "start_time": "2024-11-02T12:47:47.116318Z"
    }
   },
   "source": [
    "import yfinance as yf\n",
    "\n",
    "sp400 = yf.download('^SP400')\n",
    "sp600 = yf.download('^SP600')\n",
    "\n",
    "tickers_sp1000 = sp400.index.tolist() + sp600.index.tolist()"
   ],
   "outputs": [
    {
     "name": "stderr",
     "output_type": "stream",
     "text": [
      "[*********************100%%**********************]  1 of 1 completed\n",
      "[*********************100%%**********************]  1 of 1 completed\n"
     ]
    }
   ],
   "execution_count": 1
  },
  {
   "metadata": {
    "ExecuteTime": {
     "end_time": "2024-11-02T12:47:49.484587Z",
     "start_time": "2024-11-02T12:47:49.481436Z"
    }
   },
   "cell_type": "code",
   "source": [
    "import pandas as pd\n",
    "\n",
    "class WikipediaStockListing:\n",
    "    def __init__(self, market):\n",
    "        self.market = market\n",
    "    \n",
    "    def read(self, bucket : str):\n",
    "        url = f'https://en.wikipedia.org/wiki/List_of_S&P_{bucket}_companies'\n",
    "        df = pd.read_html(url, header=0)[0]\n",
    "        if bucket == 500 or bucket == 400:\n",
    "            cols_ren = {'Security':'Name', 'Ticker symbol':'Symbol', 'GICS Sector':'Sector', 'GICS Sub-Industry':'Industry'}\n",
    "        elif bucket == 600:\n",
    "            cols_ren = {'Company':'Name', 'Ticker symbol':'Symbol', 'GICS Sector':'Sector', 'GICS Sub-Industry':'Industry'}\n",
    "        df = df.rename(columns = cols_ren)\n",
    "        df = df[['Symbol', 'Name', 'Sector', 'Industry']]\n",
    "        df['Symbol'] = df['Symbol'].str.replace('.', '', regex=False)\n",
    "        return df"
   ],
   "id": "f557257a1c433376",
   "outputs": [],
   "execution_count": 2
  },
  {
   "metadata": {
    "ExecuteTime": {
     "end_time": "2024-11-02T12:47:52.736822Z",
     "start_time": "2024-11-02T12:47:51.525233Z"
    }
   },
   "cell_type": "code",
   "source": "sp400_list = WikipediaStockListing('S&P').read(400)",
   "id": "caedcd2937b7aca4",
   "outputs": [],
   "execution_count": 3
  },
  {
   "metadata": {
    "ExecuteTime": {
     "end_time": "2024-11-02T12:47:53.651887Z",
     "start_time": "2024-11-02T12:47:52.737929Z"
    }
   },
   "cell_type": "code",
   "source": "sp500_list = WikipediaStockListing('S&P').read(500)",
   "id": "4721fbb7505efba",
   "outputs": [],
   "execution_count": 4
  },
  {
   "metadata": {
    "ExecuteTime": {
     "end_time": "2024-11-02T12:47:54.512566Z",
     "start_time": "2024-11-02T12:47:53.652891Z"
    }
   },
   "cell_type": "code",
   "source": "sp600_list = WikipediaStockListing('S&P').read(600)",
   "id": "3ed20635ec0dd869",
   "outputs": [],
   "execution_count": 5
  },
  {
   "metadata": {
    "ExecuteTime": {
     "end_time": "2024-11-02T12:50:00.078380Z",
     "start_time": "2024-11-02T12:50:00.075282Z"
    }
   },
   "cell_type": "code",
   "source": "sp600_list.loc[sp600_list[sp600_list['Symbol'] == 'CWENA'].index, 'Symbol'] = 'CWEN-A'",
   "id": "1e3ae3de99011919",
   "outputs": [],
   "execution_count": 16
  },
  {
   "metadata": {
    "ExecuteTime": {
     "end_time": "2024-11-02T12:51:43.641503Z",
     "start_time": "2024-11-02T12:51:43.637326Z"
    }
   },
   "cell_type": "code",
   "source": "sp400_list.loc[sp400_list[sp400_list['Symbol'] == 'PNM'].index, 'Symbol'] = 'TXNM'",
   "id": "ca51a6f6df141eb0",
   "outputs": [],
   "execution_count": 19
  },
  {
   "metadata": {
    "ExecuteTime": {
     "end_time": "2024-11-02T12:52:36.163160Z",
     "start_time": "2024-11-02T12:52:36.159849Z"
    }
   },
   "cell_type": "code",
   "source": "sp600_list.loc[sp600_list[sp600_list['Symbol'] == 'MOGA'].index, 'Symbol'] = 'MOG-A'",
   "id": "a9bdca9b1a2874f1",
   "outputs": [],
   "execution_count": 22
  },
  {
   "metadata": {
    "ExecuteTime": {
     "end_time": "2024-11-02T12:53:03.146706Z",
     "start_time": "2024-11-02T12:53:03.144214Z"
    }
   },
   "cell_type": "code",
   "source": "sp500_list.loc[sp500_list[sp500_list['Symbol'] == 'BFB'].index, 'Symbol'] = 'BF-B'",
   "id": "179f60b48977cd6e",
   "outputs": [],
   "execution_count": 23
  },
  {
   "metadata": {
    "ExecuteTime": {
     "end_time": "2024-11-02T12:53:14.746654Z",
     "start_time": "2024-11-02T12:53:14.742348Z"
    }
   },
   "cell_type": "code",
   "source": "sp500_list.loc[sp500_list[sp500_list['Symbol'] == 'BRKB'].index, 'Symbol'] = 'BRK-B'",
   "id": "e8b883e67e8e7f7d",
   "outputs": [],
   "execution_count": 24
  },
  {
   "metadata": {
    "ExecuteTime": {
     "end_time": "2024-11-02T12:54:20.078719Z",
     "start_time": "2024-11-02T12:54:20.075584Z"
    }
   },
   "cell_type": "code",
   "source": "sp600_list.loc[sp600_list[sp600_list['Symbol'] == 'UCBI'].index, 'Symbol'] = 'UCB'",
   "id": "b639657ca17e704b",
   "outputs": [],
   "execution_count": 30
  },
  {
   "metadata": {
    "ExecuteTime": {
     "end_time": "2024-11-02T12:54:21.652397Z",
     "start_time": "2024-11-02T12:54:21.648135Z"
    }
   },
   "cell_type": "code",
   "source": [
    "from sqlalchemy import create_engine\n",
    "\n",
    "engine = create_engine(\n",
    "    'sqlite:///S&P_company_list.db', \n",
    "    echo = False\n",
    ")"
   ],
   "id": "b3c9a6a52fbeeff6",
   "outputs": [],
   "execution_count": 31
  },
  {
   "metadata": {
    "ExecuteTime": {
     "end_time": "2024-11-02T12:54:22.017716Z",
     "start_time": "2024-11-02T12:54:21.992474Z"
    }
   },
   "cell_type": "code",
   "source": [
    "sp400_list.to_sql(\n",
    "    'sp400_ticker_list',\n",
    "    con = engine, \n",
    "    if_exists = 'replace'\n",
    ")\n",
    "sp500_list.to_sql(\n",
    "    'sp500_ticker_list',\n",
    "    con = engine, \n",
    "    if_exists = 'replace'\n",
    ")\n",
    "sp600_list.to_sql(\n",
    "    'sp600_ticker_list',\n",
    "    con = engine, \n",
    "    if_exists = 'replace'\n",
    ")"
   ],
   "id": "f3f4f3a89ac98777",
   "outputs": [
    {
     "data": {
      "text/plain": [
       "602"
      ]
     },
     "execution_count": 32,
     "metadata": {},
     "output_type": "execute_result"
    }
   ],
   "execution_count": 32
  },
  {
   "metadata": {},
   "cell_type": "markdown",
   "source": "### Stock Data Download",
   "id": "1f0db9736d9df384"
  },
  {
   "metadata": {
    "ExecuteTime": {
     "end_time": "2024-11-02T12:54:30.101645Z",
     "start_time": "2024-11-02T12:54:30.097330Z"
    }
   },
   "cell_type": "code",
   "source": "spx = sp500_list['Symbol'].tolist() + sp600_list['Symbol'].tolist() + sp400_list['Symbol'].tolist()",
   "id": "889ef68c2df1a6e5",
   "outputs": [],
   "execution_count": 33
  },
  {
   "metadata": {
    "ExecuteTime": {
     "end_time": "2024-11-02T12:56:07.641412Z",
     "start_time": "2024-11-02T12:54:30.574926Z"
    }
   },
   "cell_type": "code",
   "source": [
    "prices = yf.download(\n",
    "    spx,\n",
    "    start = '1990-01-01'\n",
    ")"
   ],
   "id": "a0c8184440b04c30",
   "outputs": [
    {
     "name": "stderr",
     "output_type": "stream",
     "text": [
      "[*********************100%%**********************]  1506 of 1506 completed\n"
     ]
    }
   ],
   "execution_count": 34
  },
  {
   "metadata": {
    "ExecuteTime": {
     "end_time": "2024-11-02T12:57:04.578435Z",
     "start_time": "2024-11-02T12:57:01.286907Z"
    }
   },
   "cell_type": "code",
   "source": [
    "prices.to_parquet(\n",
    "    '../Data/S&P_stocks_prices.parquet'\n",
    ")"
   ],
   "id": "a5ecc708c6a00b43",
   "outputs": [],
   "execution_count": 35
  },
  {
   "metadata": {},
   "cell_type": "code",
   "outputs": [],
   "execution_count": null,
   "source": "",
   "id": "542fc1315e8cd02c"
  }
 ],
 "metadata": {
  "kernelspec": {
   "display_name": "Python 3",
   "language": "python",
   "name": "python3"
  },
  "language_info": {
   "codemirror_mode": {
    "name": "ipython",
    "version": 2
   },
   "file_extension": ".py",
   "mimetype": "text/x-python",
   "name": "python",
   "nbconvert_exporter": "python",
   "pygments_lexer": "ipython2",
   "version": "2.7.6"
  }
 },
 "nbformat": 4,
 "nbformat_minor": 5
}
