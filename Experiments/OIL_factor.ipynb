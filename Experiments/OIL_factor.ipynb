{
 "cells": [
  {
   "metadata": {},
   "cell_type": "markdown",
   "source": "### OIL Factor",
   "id": "1e94285f69f87407"
  },
  {
   "cell_type": "code",
   "id": "initial_id",
   "metadata": {
    "collapsed": true,
    "ExecuteTime": {
     "end_time": "2024-10-31T14:23:35.015898Z",
     "start_time": "2024-10-31T14:23:34.255533Z"
    }
   },
   "source": [
    "import numpy as np\n",
    "import pandas as pd\n",
    "import matplotlib.pyplot as plt\n",
    "import seaborn as sns\n",
    "\n",
    "price = pd.read_parquet(\n",
    "    '../Data/US_stock_Price.parquet',\n",
    ").resample('W-FRI').last()"
   ],
   "outputs": [],
   "execution_count": 17
  },
  {
   "metadata": {
    "ExecuteTime": {
     "end_time": "2024-10-31T14:23:35.736008Z",
     "start_time": "2024-10-31T14:23:35.591918Z"
    }
   },
   "cell_type": "code",
   "source": [
    "oil_price = pd.read_excel(\n",
    "    '../Data/WTI.xlsx',\n",
    "    index_col = 0\n",
    ").resample('W-FRI').last()"
   ],
   "id": "f4db5ebdeb9912fc",
   "outputs": [],
   "execution_count": 18
  },
  {
   "metadata": {
    "ExecuteTime": {
     "end_time": "2024-10-31T14:23:36.120643Z",
     "start_time": "2024-10-31T14:23:36.118201Z"
    }
   },
   "cell_type": "code",
   "source": "oil_ret = oil_price.pct_change()",
   "id": "b7ae78550cadcbd4",
   "outputs": [],
   "execution_count": 19
  },
  {
   "metadata": {
    "ExecuteTime": {
     "end_time": "2024-10-31T14:23:39.032990Z",
     "start_time": "2024-10-31T14:23:39.027168Z"
    }
   },
   "cell_type": "code",
   "source": "oil_ret.loc['1990':].index",
   "id": "65062ab64f536dd2",
   "outputs": [
    {
     "data": {
      "text/plain": [
       "DatetimeIndex(['1990-01-05', '1990-01-12', '1990-01-19', '1990-01-26',\n",
       "               '1990-02-02', '1990-02-09', '1990-02-16', '1990-02-23',\n",
       "               '1990-03-02', '1990-03-09',\n",
       "               ...\n",
       "               '2024-08-30', '2024-09-06', '2024-09-13', '2024-09-20',\n",
       "               '2024-09-27', '2024-10-04', '2024-10-11', '2024-10-18',\n",
       "               '2024-10-25', '2024-11-01'],\n",
       "              dtype='datetime64[ns]', name='Date', length=1818, freq='W-FRI')"
      ]
     },
     "execution_count": 20,
     "metadata": {},
     "output_type": "execute_result"
    }
   ],
   "execution_count": 20
  },
  {
   "metadata": {
    "ExecuteTime": {
     "end_time": "2024-10-31T14:45:26.428256Z",
     "start_time": "2024-10-31T14:45:26.042472Z"
    }
   },
   "cell_type": "code",
   "source": [
    "price = pd.read_parquet(\n",
    "    '../Data/US_stock_Price.parquet',\n",
    ")"
   ],
   "id": "f2f19b6becc25b11",
   "outputs": [],
   "execution_count": 62
  },
  {
   "metadata": {
    "ExecuteTime": {
     "end_time": "2024-10-31T14:45:28.596096Z",
     "start_time": "2024-10-31T14:45:27.508239Z"
    }
   },
   "cell_type": "code",
   "source": "price_ret = price.pct_change()",
   "id": "7c4a2325279d978d",
   "outputs": [
    {
     "name": "stderr",
     "output_type": "stream",
     "text": [
      "/var/folders/1q/pl9tj55n57s9jg28npxw61n80000gn/T/ipykernel_20240/1882691314.py:1: FutureWarning: The default fill_method='pad' in DataFrame.pct_change is deprecated and will be removed in a future version. Either fill in any non-leading NA values prior to calling pct_change or specify 'fill_method=None' to not fill NA values.\n",
      "  price_ret = price.pct_change()\n"
     ]
    }
   ],
   "execution_count": 63
  },
  {
   "metadata": {
    "ExecuteTime": {
     "end_time": "2024-10-31T14:45:29.633807Z",
     "start_time": "2024-10-31T14:45:29.628835Z"
    }
   },
   "cell_type": "code",
   "source": "price_ret.index",
   "id": "db0c5458fefb4e87",
   "outputs": [
    {
     "data": {
      "text/plain": [
       "DatetimeIndex(['1990-01-02', '1990-01-03', '1990-01-04', '1990-01-05',\n",
       "               '1990-01-08', '1990-01-09', '1990-01-10', '1990-01-11',\n",
       "               '1990-01-12', '1990-01-15',\n",
       "               ...\n",
       "               '2024-10-18', '2024-10-21', '2024-10-22', '2024-10-23',\n",
       "               '2024-10-24', '2024-10-25', '2024-10-28', '2024-10-29',\n",
       "               '2024-10-30', '2024-10-31'],\n",
       "              dtype='datetime64[ns]', name='Date', length=8776, freq=None)"
      ]
     },
     "execution_count": 64,
     "metadata": {},
     "output_type": "execute_result"
    }
   ],
   "execution_count": 64
  },
  {
   "metadata": {
    "ExecuteTime": {
     "end_time": "2024-10-31T14:24:41.373155Z",
     "start_time": "2024-10-31T14:24:41.357870Z"
    }
   },
   "cell_type": "code",
   "source": "oil_excess = price_ret - oil_ret.loc['1990':].values",
   "id": "8d73df8a55700a97",
   "outputs": [],
   "execution_count": 25
  },
  {
   "metadata": {
    "ExecuteTime": {
     "end_time": "2024-10-31T14:45:43.156604Z",
     "start_time": "2024-10-31T14:45:40.927487Z"
    }
   },
   "cell_type": "code",
   "source": [
    "from tqdm import tqdm\n",
    "up_30per = dict()\n",
    "down_30per = dict()\n",
    "\n",
    "mean_excess = pd.DataFrame(\n",
    "    index = price_ret.index,\n",
    "    columns = ['Up 30per', 'Down 30per']\n",
    ")\n",
    "\n",
    "for i in tqdm(zip([f'{year}-06' for year in range(1990, 2025)], [f'{year}-05' for year in range(1991, 2026)])) :\n",
    "    length = int(len(oil_excess.loc[i[0]:i[1]].mean().sort_values(ascending = False).dropna()) * 0.3)\n",
    "    up_30per[i[0]] = oil_excess.loc[i[0]:i[1]].mean().sort_values(ascending = False).dropna().iloc[:length].index.tolist()\n",
    "    down_30per[i[0]] = oil_excess.loc[i[0]:i[1]].mean().sort_values(ascending = True).dropna().iloc[:length].index.tolist()\n",
    "    \n",
    "    mean_excess.loc[i[0]:i[1], 'Up 30per'] = price_ret.loc[i[0]:i[1], up_30per[i[0]]].mean(axis = 1).values\n",
    "    mean_excess.loc[i[0]:i[1], 'Down 30per'] = price_ret.loc[i[0]:i[1], down_30per[i[0]]].mean(axis = 1).values"
   ],
   "id": "2ac6668e323407cc",
   "outputs": [
    {
     "name": "stderr",
     "output_type": "stream",
     "text": [
      "35it [00:02, 15.77it/s]\n"
     ]
    }
   ],
   "execution_count": 65
  },
  {
   "metadata": {
    "ExecuteTime": {
     "end_time": "2024-10-31T14:46:23.417718Z",
     "start_time": "2024-10-31T14:46:23.413867Z"
    }
   },
   "cell_type": "code",
   "source": "oil_factor = mean_excess['Up 30per'] - mean_excess['Down 30per']",
   "id": "5cc1c01babcf238d",
   "outputs": [],
   "execution_count": 67
  },
  {
   "metadata": {
    "ExecuteTime": {
     "end_time": "2024-10-31T14:46:32.267611Z",
     "start_time": "2024-10-31T14:46:32.235706Z"
    }
   },
   "cell_type": "code",
   "source": "pd.DataFrame(oil_factor).to_parquet('../Data/OIL_Factor.parquet')",
   "id": "6a70991719f88662",
   "outputs": [],
   "execution_count": 69
  },
  {
   "metadata": {},
   "cell_type": "code",
   "outputs": [],
   "execution_count": null,
   "source": "",
   "id": "e4b75518e9b433b0"
  }
 ],
 "metadata": {
  "kernelspec": {
   "display_name": "Python 3",
   "language": "python",
   "name": "python3"
  },
  "language_info": {
   "codemirror_mode": {
    "name": "ipython",
    "version": 2
   },
   "file_extension": ".py",
   "mimetype": "text/x-python",
   "name": "python",
   "nbconvert_exporter": "python",
   "pygments_lexer": "ipython2",
   "version": "2.7.6"
  }
 },
 "nbformat": 4,
 "nbformat_minor": 5
}
