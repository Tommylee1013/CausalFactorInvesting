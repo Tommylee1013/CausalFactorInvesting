{
 "cells": [
  {
   "metadata": {},
   "cell_type": "markdown",
   "source": "### OIL Factor",
   "id": "1e94285f69f87407"
  },
  {
   "cell_type": "code",
   "id": "initial_id",
   "metadata": {
    "collapsed": true,
    "ExecuteTime": {
     "end_time": "2024-11-02T13:40:40.856367Z",
     "start_time": "2024-11-02T13:40:39.798044Z"
    }
   },
   "source": [
    "import numpy as np\n",
    "import pandas as pd\n",
    "import matplotlib.pyplot as plt\n",
    "import seaborn as sns\n",
    "\n",
    "price = pd.read_parquet(\n",
    "    '../Data/US_stock_Price.parquet',\n",
    ").resample('W-FRI').last()"
   ],
   "outputs": [],
   "execution_count": 36
  },
  {
   "metadata": {
    "ExecuteTime": {
     "end_time": "2024-11-02T13:40:40.995412Z",
     "start_time": "2024-11-02T13:40:40.858379Z"
    }
   },
   "cell_type": "code",
   "source": [
    "oil_price = pd.read_excel(\n",
    "    '../Data/WTI.xlsx',\n",
    "    index_col = 0\n",
    ").resample('W-FRI').last()"
   ],
   "id": "f4db5ebdeb9912fc",
   "outputs": [],
   "execution_count": 37
  },
  {
   "metadata": {
    "ExecuteTime": {
     "end_time": "2024-11-02T13:40:41.212951Z",
     "start_time": "2024-11-02T13:40:41.209702Z"
    }
   },
   "cell_type": "code",
   "source": "oil_ret = oil_price.pct_change()",
   "id": "b7ae78550cadcbd4",
   "outputs": [],
   "execution_count": 38
  },
  {
   "metadata": {
    "ExecuteTime": {
     "end_time": "2024-11-02T13:40:41.474628Z",
     "start_time": "2024-11-02T13:40:41.469200Z"
    }
   },
   "cell_type": "code",
   "source": "oil_ret.loc['1990':].index",
   "id": "65062ab64f536dd2",
   "outputs": [
    {
     "data": {
      "text/plain": [
       "DatetimeIndex(['1990-01-05', '1990-01-12', '1990-01-19', '1990-01-26',\n",
       "               '1990-02-02', '1990-02-09', '1990-02-16', '1990-02-23',\n",
       "               '1990-03-02', '1990-03-09',\n",
       "               ...\n",
       "               '2024-08-30', '2024-09-06', '2024-09-13', '2024-09-20',\n",
       "               '2024-09-27', '2024-10-04', '2024-10-11', '2024-10-18',\n",
       "               '2024-10-25', '2024-11-01'],\n",
       "              dtype='datetime64[ns]', name='Date', length=1818, freq='W-FRI')"
      ]
     },
     "execution_count": 39,
     "metadata": {},
     "output_type": "execute_result"
    }
   ],
   "execution_count": 39
  },
  {
   "metadata": {
    "ExecuteTime": {
     "end_time": "2024-11-02T13:40:42.959178Z",
     "start_time": "2024-11-02T13:40:42.868610Z"
    }
   },
   "cell_type": "code",
   "source": "price_ret = price.pct_change()",
   "id": "7c4a2325279d978d",
   "outputs": [
    {
     "name": "stderr",
     "output_type": "stream",
     "text": [
      "/var/folders/1q/pl9tj55n57s9jg28npxw61n80000gn/T/ipykernel_26562/1882691314.py:1: FutureWarning: The default fill_method='pad' in DataFrame.pct_change is deprecated and will be removed in a future version. Either fill in any non-leading NA values prior to calling pct_change or specify 'fill_method=None' to not fill NA values.\n",
      "  price_ret = price.pct_change()\n"
     ]
    }
   ],
   "execution_count": 40
  },
  {
   "metadata": {
    "ExecuteTime": {
     "end_time": "2024-11-02T13:40:43.143411Z",
     "start_time": "2024-11-02T13:40:43.140202Z"
    }
   },
   "cell_type": "code",
   "source": "price_ret.index",
   "id": "db0c5458fefb4e87",
   "outputs": [
    {
     "data": {
      "text/plain": [
       "DatetimeIndex(['1990-01-05', '1990-01-12', '1990-01-19', '1990-01-26',\n",
       "               '1990-02-02', '1990-02-09', '1990-02-16', '1990-02-23',\n",
       "               '1990-03-02', '1990-03-09',\n",
       "               ...\n",
       "               '2024-08-30', '2024-09-06', '2024-09-13', '2024-09-20',\n",
       "               '2024-09-27', '2024-10-04', '2024-10-11', '2024-10-18',\n",
       "               '2024-10-25', '2024-11-01'],\n",
       "              dtype='datetime64[ns]', name='Date', length=1818, freq='W-FRI')"
      ]
     },
     "execution_count": 41,
     "metadata": {},
     "output_type": "execute_result"
    }
   ],
   "execution_count": 41
  },
  {
   "metadata": {
    "ExecuteTime": {
     "end_time": "2024-11-02T13:40:44.817113Z",
     "start_time": "2024-11-02T13:40:44.804971Z"
    }
   },
   "cell_type": "code",
   "source": "oil_excess = price_ret - oil_ret.loc['1990':].values",
   "id": "8d73df8a55700a97",
   "outputs": [],
   "execution_count": 42
  },
  {
   "metadata": {
    "ExecuteTime": {
     "end_time": "2024-11-02T13:40:56.473813Z",
     "start_time": "2024-11-02T13:40:55.031040Z"
    }
   },
   "cell_type": "code",
   "source": [
    "price = pd.read_parquet(\n",
    "    '../Data/US_stock_Price.parquet',\n",
    ")\n",
    "price_ret = price.pct_change()"
   ],
   "id": "477799b8879fa69a",
   "outputs": [
    {
     "name": "stderr",
     "output_type": "stream",
     "text": [
      "/var/folders/1q/pl9tj55n57s9jg28npxw61n80000gn/T/ipykernel_26562/2331620672.py:4: FutureWarning: The default fill_method='pad' in DataFrame.pct_change is deprecated and will be removed in a future version. Either fill in any non-leading NA values prior to calling pct_change or specify 'fill_method=None' to not fill NA values.\n",
      "  price_ret = price.pct_change()\n"
     ]
    }
   ],
   "execution_count": 44
  },
  {
   "metadata": {
    "ExecuteTime": {
     "end_time": "2024-11-02T13:41:01.287783Z",
     "start_time": "2024-11-02T13:40:59.108088Z"
    }
   },
   "cell_type": "code",
   "source": [
    "from tqdm import tqdm\n",
    "up_30per = dict()\n",
    "down_30per = dict()\n",
    "\n",
    "mean_excess = pd.DataFrame(\n",
    "    index = price_ret.index,\n",
    "    columns = ['Up 30per', 'Down 30per']\n",
    ")\n",
    "\n",
    "for i in tqdm(zip([f'{year}-06' for year in range(1990, 2025)], [f'{year}-05' for year in range(1991, 2026)])) :\n",
    "    length = int(len(oil_excess.loc[i[0]:i[1]].mean().sort_values(ascending = False).dropna()) * 0.3)\n",
    "    up_30per[i[0]] = oil_excess.loc[i[0]:i[1]].mean().sort_values(ascending = False).dropna().iloc[:length].index.tolist()\n",
    "    down_30per[i[0]] = oil_excess.loc[i[0]:i[1]].mean().sort_values(ascending = True).dropna().iloc[:length].index.tolist()\n",
    "    \n",
    "    mean_excess.loc[i[0]:i[1], 'Up 30per'] = price_ret.loc[i[0]:i[1], up_30per[i[0]]].mean(axis = 1).values\n",
    "    mean_excess.loc[i[0]:i[1], 'Down 30per'] = price_ret.loc[i[0]:i[1], down_30per[i[0]]].mean(axis = 1).values"
   ],
   "id": "2ac6668e323407cc",
   "outputs": [
    {
     "name": "stderr",
     "output_type": "stream",
     "text": [
      "35it [00:02, 16.12it/s]\n"
     ]
    }
   ],
   "execution_count": 45
  },
  {
   "metadata": {
    "ExecuteTime": {
     "end_time": "2024-11-02T13:41:01.857757Z",
     "start_time": "2024-11-02T13:41:01.855008Z"
    }
   },
   "cell_type": "code",
   "source": "oil_factor = mean_excess['Up 30per'] - mean_excess['Down 30per']",
   "id": "5cc1c01babcf238d",
   "outputs": [],
   "execution_count": 46
  },
  {
   "metadata": {
    "ExecuteTime": {
     "end_time": "2024-11-02T13:41:02.235298Z",
     "start_time": "2024-11-02T13:41:02.230728Z"
    }
   },
   "cell_type": "code",
   "source": "mean_excess",
   "id": "12078bdd3cc6431b",
   "outputs": [
    {
     "data": {
      "text/plain": [
       "            Up 30per Down 30per\n",
       "Date                           \n",
       "1990-01-02       NaN        NaN\n",
       "1990-01-03       NaN        NaN\n",
       "1990-01-04       NaN        NaN\n",
       "1990-01-05       NaN        NaN\n",
       "1990-01-08       NaN        NaN\n",
       "...              ...        ...\n",
       "2024-10-25  0.001494  -0.002282\n",
       "2024-10-28  0.021044   0.010664\n",
       "2024-10-29  0.001478  -0.009366\n",
       "2024-10-30  0.001573  -0.010956\n",
       "2024-10-31 -0.002612  -0.010084\n",
       "\n",
       "[8776 rows x 2 columns]"
      ],
      "text/html": [
       "<div>\n",
       "<style scoped>\n",
       "    .dataframe tbody tr th:only-of-type {\n",
       "        vertical-align: middle;\n",
       "    }\n",
       "\n",
       "    .dataframe tbody tr th {\n",
       "        vertical-align: top;\n",
       "    }\n",
       "\n",
       "    .dataframe thead th {\n",
       "        text-align: right;\n",
       "    }\n",
       "</style>\n",
       "<table border=\"1\" class=\"dataframe\">\n",
       "  <thead>\n",
       "    <tr style=\"text-align: right;\">\n",
       "      <th></th>\n",
       "      <th>Up 30per</th>\n",
       "      <th>Down 30per</th>\n",
       "    </tr>\n",
       "    <tr>\n",
       "      <th>Date</th>\n",
       "      <th></th>\n",
       "      <th></th>\n",
       "    </tr>\n",
       "  </thead>\n",
       "  <tbody>\n",
       "    <tr>\n",
       "      <th>1990-01-02</th>\n",
       "      <td>NaN</td>\n",
       "      <td>NaN</td>\n",
       "    </tr>\n",
       "    <tr>\n",
       "      <th>1990-01-03</th>\n",
       "      <td>NaN</td>\n",
       "      <td>NaN</td>\n",
       "    </tr>\n",
       "    <tr>\n",
       "      <th>1990-01-04</th>\n",
       "      <td>NaN</td>\n",
       "      <td>NaN</td>\n",
       "    </tr>\n",
       "    <tr>\n",
       "      <th>1990-01-05</th>\n",
       "      <td>NaN</td>\n",
       "      <td>NaN</td>\n",
       "    </tr>\n",
       "    <tr>\n",
       "      <th>1990-01-08</th>\n",
       "      <td>NaN</td>\n",
       "      <td>NaN</td>\n",
       "    </tr>\n",
       "    <tr>\n",
       "      <th>...</th>\n",
       "      <td>...</td>\n",
       "      <td>...</td>\n",
       "    </tr>\n",
       "    <tr>\n",
       "      <th>2024-10-25</th>\n",
       "      <td>0.001494</td>\n",
       "      <td>-0.002282</td>\n",
       "    </tr>\n",
       "    <tr>\n",
       "      <th>2024-10-28</th>\n",
       "      <td>0.021044</td>\n",
       "      <td>0.010664</td>\n",
       "    </tr>\n",
       "    <tr>\n",
       "      <th>2024-10-29</th>\n",
       "      <td>0.001478</td>\n",
       "      <td>-0.009366</td>\n",
       "    </tr>\n",
       "    <tr>\n",
       "      <th>2024-10-30</th>\n",
       "      <td>0.001573</td>\n",
       "      <td>-0.010956</td>\n",
       "    </tr>\n",
       "    <tr>\n",
       "      <th>2024-10-31</th>\n",
       "      <td>-0.002612</td>\n",
       "      <td>-0.010084</td>\n",
       "    </tr>\n",
       "  </tbody>\n",
       "</table>\n",
       "<p>8776 rows × 2 columns</p>\n",
       "</div>"
      ]
     },
     "execution_count": 47,
     "metadata": {},
     "output_type": "execute_result"
    }
   ],
   "execution_count": 47
  },
  {
   "metadata": {
    "ExecuteTime": {
     "end_time": "2024-11-02T13:41:03.368162Z",
     "start_time": "2024-11-02T13:41:03.194580Z"
    }
   },
   "cell_type": "code",
   "source": "oil_factor.plot()",
   "id": "3c0ce6bc8ebec787",
   "outputs": [
    {
     "data": {
      "text/plain": [
       "<Axes: xlabel='Date'>"
      ]
     },
     "execution_count": 48,
     "metadata": {},
     "output_type": "execute_result"
    },
    {
     "data": {
      "text/plain": [
       "<Figure size 640x480 with 1 Axes>"
      ],
      "image/png": "[encoded data removed]"
     },
     "metadata": {},
     "output_type": "display_data"
    }
   ],
   "execution_count": 48
  },
  {
   "metadata": {
    "ExecuteTime": {
     "end_time": "2024-11-02T13:41:05.157267Z",
     "start_time": "2024-11-02T13:41:05.149538Z"
    }
   },
   "cell_type": "code",
   "source": "pd.DataFrame(oil_factor).to_parquet('../Data/OIL_Factor.parquet')",
   "id": "6a70991719f88662",
   "outputs": [],
   "execution_count": 49
  },
  {
   "metadata": {},
   "cell_type": "code",
   "outputs": [],
   "execution_count": null,
   "source": "",
   "id": "e4b75518e9b433b0"
  }
 ],
 "metadata": {
  "kernelspec": {
   "display_name": "Python 3",
   "language": "python",
   "name": "python3"
  },
  "language_info": {
   "codemirror_mode": {
    "name": "ipython",
    "version": 2
   },
   "file_extension": ".py",
   "mimetype": "text/x-python",
   "name": "python",
   "nbconvert_exporter": "python",
   "pygments_lexer": "ipython2",
   "version": "2.7.6"
  }
 },
 "nbformat": 4,
 "nbformat_minor": 5
}
