{
 "cells": [
  {
   "cell_type": "markdown",
   "source": [
    "### The Three Steps of Scientific Discovery"
   ],
   "metadata": {
    "collapsed": false
   },
   "id": "65c4282051750f90"
  },
  {
   "cell_type": "code",
   "execution_count": null,
   "id": "initial_id",
   "metadata": {
    "collapsed": true
   },
   "outputs": [],
   "source": []
  },
  {
   "cell_type": "markdown",
   "source": [
    "#### 1. The Phenomenological Step"
   ],
   "metadata": {
    "collapsed": false
   },
   "id": "98dc4baff071ec6e"
  },
  {
   "cell_type": "code",
   "execution_count": null,
   "outputs": [],
   "source": [],
   "metadata": {
    "collapsed": false
   },
   "id": "fd6aed3ffefedfea"
  },
  {
   "cell_type": "markdown",
   "source": [
    "#### 2. The Theoretical Step"
   ],
   "metadata": {
    "collapsed": false
   },
   "id": "e66d8f61e4871ea0"
  },
  {
   "cell_type": "code",
   "execution_count": null,
   "outputs": [],
   "source": [],
   "metadata": {
    "collapsed": false
   },
   "id": "c300947d2ad260c2"
  },
  {
   "cell_type": "markdown",
   "source": [
    "#### 3. The Falsification Step"
   ],
   "metadata": {
    "collapsed": false
   },
   "id": "df78898d61ee7ff6"
  },
  {
   "cell_type": "code",
   "execution_count": null,
   "outputs": [],
   "source": [],
   "metadata": {
    "collapsed": false
   },
   "id": "581214293f2e5e29"
  },
  {
   "cell_type": "markdown",
   "source": [
    "#### 4. Demarcation and Falsificationism in Statistics"
   ],
   "metadata": {
    "collapsed": false
   },
   "id": "4ff8006d9fdbd5f0"
  },
  {
   "cell_type": "code",
   "execution_count": null,
   "outputs": [],
   "source": [],
   "metadata": {
    "collapsed": false
   },
   "id": "e3784d6bbc508e72"
  }
 ],
 "metadata": {
  "kernelspec": {
   "display_name": "Python 3",
   "language": "python",
   "name": "python3"
  },
  "language_info": {
   "codemirror_mode": {
    "name": "ipython",
    "version": 2
   },
   "file_extension": ".py",
   "mimetype": "text/x-python",
   "name": "python",
   "nbconvert_exporter": "python",
   "pygments_lexer": "ipython2",
   "version": "2.7.6"
  }
 },
 "nbformat": 4,
 "nbformat_minor": 5
}
